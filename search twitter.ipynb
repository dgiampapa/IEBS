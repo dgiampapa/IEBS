{
  "cells": [
    {
      "cell_type": "markdown",
      "source": [
        "IEBS - Proyecto Final\n",
        "\n",
        "Este notebook se encarga a traves de las APi de twitter buscar los tweets de los diferentes bancos a ser evaluados. Con esto se genera un archivo csv de los tweets y de los usuarios. "
      ],
      "metadata": {
        "id": "58NKyYXscuKv"
      },
      "id": "58NKyYXscuKv"
    },
    {
      "cell_type": "markdown",
      "source": [
        "# Instalacion de librerias"
      ],
      "metadata": {
        "id": "1-ZyooFZXQ6b"
      },
      "id": "1-ZyooFZXQ6b"
    },
    {
      "cell_type": "code",
      "execution_count": 1,
      "metadata": {
        "colab": {
          "base_uri": "https://localhost:8080/"
        },
        "id": "IxxxI23hP0LB",
        "outputId": "56ea81a6-181a-43bf-e574-a3c5ed846801"
      },
      "outputs": [
        {
          "output_type": "stream",
          "name": "stdout",
          "text": [
            "Looking in indexes: https://pypi.org/simple, https://us-python.pkg.dev/colab-wheels/public/simple/\n",
            "Requirement already satisfied: nltk in /usr/local/lib/python3.7/dist-packages (3.7)\n",
            "Requirement already satisfied: regex>=2021.8.3 in /usr/local/lib/python3.7/dist-packages (from nltk) (2022.6.2)\n",
            "Requirement already satisfied: click in /usr/local/lib/python3.7/dist-packages (from nltk) (7.1.2)\n",
            "Requirement already satisfied: joblib in /usr/local/lib/python3.7/dist-packages (from nltk) (1.1.0)\n",
            "Requirement already satisfied: tqdm in /usr/local/lib/python3.7/dist-packages (from nltk) (4.64.0)\n"
          ]
        }
      ],
      "source": [
        "!pip install nltk"
      ],
      "id": "IxxxI23hP0LB"
    },
    {
      "cell_type": "code",
      "execution_count": 2,
      "metadata": {
        "colab": {
          "base_uri": "https://localhost:8080/"
        },
        "id": "Z7-PGU0tP0LC",
        "outputId": "9b3d8f3b-900b-4dbc-8b4e-dd3a841a8c22"
      },
      "outputs": [
        {
          "output_type": "stream",
          "name": "stdout",
          "text": [
            "Looking in indexes: https://pypi.org/simple, https://us-python.pkg.dev/colab-wheels/public/simple/\n",
            "Collecting datetime\n",
            "  Downloading DateTime-4.5-py2.py3-none-any.whl (52 kB)\n",
            "\u001b[K     |████████████████████████████████| 52 kB 755 kB/s \n",
            "\u001b[?25hRequirement already satisfied: pytz in /usr/local/lib/python3.7/dist-packages (from datetime) (2022.1)\n",
            "Collecting zope.interface\n",
            "  Downloading zope.interface-5.4.0-cp37-cp37m-manylinux2010_x86_64.whl (251 kB)\n",
            "\u001b[K     |████████████████████████████████| 251 kB 29.2 MB/s \n",
            "\u001b[?25hRequirement already satisfied: setuptools in /usr/local/lib/python3.7/dist-packages (from zope.interface->datetime) (57.4.0)\n",
            "Installing collected packages: zope.interface, datetime\n",
            "Successfully installed datetime-4.5 zope.interface-5.4.0\n"
          ]
        }
      ],
      "source": [
        "!pip install datetime"
      ],
      "id": "Z7-PGU0tP0LC"
    },
    {
      "cell_type": "code",
      "execution_count": 3,
      "metadata": {
        "colab": {
          "base_uri": "https://localhost:8080/"
        },
        "id": "RGf7CyCcP0LA",
        "outputId": "46c3dd7e-70ba-4389-b214-3950b1d599de"
      },
      "outputs": [
        {
          "output_type": "stream",
          "name": "stdout",
          "text": [
            "Looking in indexes: https://pypi.org/simple, https://us-python.pkg.dev/colab-wheels/public/simple/\n",
            "Collecting unidecode\n",
            "  Downloading Unidecode-1.3.4-py3-none-any.whl (235 kB)\n",
            "\u001b[K     |████████████████████████████████| 235 kB 16.8 MB/s \n",
            "\u001b[?25hInstalling collected packages: unidecode\n",
            "Successfully installed unidecode-1.3.4\n"
          ]
        }
      ],
      "source": [
        "!pip install unidecode"
      ],
      "id": "RGf7CyCcP0LA"
    },
    {
      "cell_type": "markdown",
      "source": [
        "# Preparacion del entorno\n"
      ],
      "metadata": {
        "id": "xg-HCqW-XcNP"
      },
      "id": "xg-HCqW-XcNP"
    },
    {
      "cell_type": "code",
      "source": [
        "# Importar el driver para almacenar los datos\n",
        "\n",
        "from google.colab import drive\n",
        "drive.mount('/content/drive')"
      ],
      "metadata": {
        "colab": {
          "base_uri": "https://localhost:8080/"
        },
        "id": "hNgG6lUHrcCg",
        "outputId": "28436f0a-f52d-4802-835e-5f8ccedda5b1"
      },
      "id": "hNgG6lUHrcCg",
      "execution_count": 4,
      "outputs": [
        {
          "output_type": "stream",
          "name": "stdout",
          "text": [
            "Mounted at /content/drive\n"
          ]
        }
      ]
    },
    {
      "cell_type": "code",
      "execution_count": 5,
      "id": "ce521069-6240-4bfa-ad84-7d49ea13374f",
      "metadata": {
        "id": "ce521069-6240-4bfa-ad84-7d49ea13374f"
      },
      "outputs": [],
      "source": [
        "%load_ext autoreload\n",
        "%autoreload 2"
      ]
    },
    {
      "cell_type": "code",
      "execution_count": 6,
      "id": "4b1d7fa8-f2fa-416b-b58d-47244192fd55",
      "metadata": {
        "id": "4b1d7fa8-f2fa-416b-b58d-47244192fd55"
      },
      "outputs": [],
      "source": [
        "# Se importan las librerias a utilizar durante todo el proyecto. \n",
        "import requests\n",
        "from requests_oauthlib import OAuth1\n",
        "import pandas as pd\n",
        "\n",
        "from tweepy import OAuthHandler, API, Cursor\n",
        "import json\n",
        "\n",
        "import string\n",
        "from nltk.tokenize import word_tokenize\n",
        "from datetime import datetime\n",
        "import unidecode\n",
        "from unicodedata import normalize\n",
        "\n",
        "import warnings\n",
        "warnings.filterwarnings('ignore')"
      ]
    },
    {
      "cell_type": "code",
      "execution_count": 7,
      "id": "1ee5868b-73e7-4ad8-a37e-00f532602b70",
      "metadata": {
        "id": "1ee5868b-73e7-4ad8-a37e-00f532602b70"
      },
      "outputs": [],
      "source": [
        "# Se toman los valores de las llaves para poder autenticarse con el api\n",
        "\n",
        "ckey = 'dHJRdt64HiFuM9Pd9JjfRKmaO'\n",
        "csecret = 'ZeCqoUN9EntyQTWrQ1LjeuhRCcuPJsscQOhjtToR9o0WgolOPJ'\n",
        "\n",
        "atoken = '38060754-NJ7TvzMaZGTbPqxN47R7Lo7nqonm92UnQ00gRcFLd'\n",
        "asecret = 'Ce5lMmc97yKsloWxNT6MBCduFj8UcUQUXuWW39lz8Pezk'\n",
        "\n",
        "Bearer = 'AAAAAAAAAAAAAAAAAAAAAHbEOwEAAAAAmFuxYzwGEgoSPj9UXJID8tJA4A4%3DdHHFgBO1XnM4MWI9Z40Tim28zBieDeTwPhU3EGMvFo6F6tvRcO'"
      ]
    },
    {
      "cell_type": "code",
      "execution_count": 8,
      "id": "2642d8b3-083c-4408-9180-0b5f67478680",
      "metadata": {
        "id": "2642d8b3-083c-4408-9180-0b5f67478680"
      },
      "outputs": [],
      "source": [
        "# Se genera una instancia de autenticacion\n",
        "auth = OAuthHandler(ckey, csecret)\n",
        "auth.set_access_token(atoken, asecret)"
      ]
    },
    {
      "cell_type": "code",
      "execution_count": 9,
      "id": "4b8ceb1c-99ad-408e-8157-f8ac0f8f4f37",
      "metadata": {
        "id": "4b8ceb1c-99ad-408e-8157-f8ac0f8f4f37"
      },
      "outputs": [],
      "source": [
        "# Se realiza una prueba del api. \n",
        "api = API(auth,\n",
        "        wait_on_rate_limit=True,\n",
        "        wait_on_rate_limit_notify=True)"
      ]
    },
    {
      "cell_type": "markdown",
      "id": "9d5f482b-57ec-47dd-8e9d-a5b56ac9d53b",
      "metadata": {
        "id": "9d5f482b-57ec-47dd-8e9d-a5b56ac9d53b"
      },
      "source": [
        "# API con request\n",
        "\n",
        "Request de prueba:\n",
        "curl \"https://api.twitter.com/2/users/2244994945/mentions?expansions=author_id&tweet.fields=conversation_id,lang&user.fields=created_at,entities&max_results=5\" -H \"Authorization: Bearer $BEARER_TOKEN\"\n",
        "\n",
        "Página: \n",
        "https://developer.twitter.com/en/docs/twitter-api/tweets/timelines/api-reference/get-users-id-mentions#tab1\n"
      ]
    },
    {
      "cell_type": "code",
      "source": [
        "# Se invoca el API que permite buscar a traves del nombre de usuario el ID para las busquedas de las menciones. \n",
        "\n",
        "headers = {'Authorization': f'Bearer {Bearer}'} # Variable de autorizador\n",
        "url = f'https://api.twitter.com/2/users/by' # url de invocacion\n",
        "bancos = '' # variable que guarda toda la respuesta\n",
        "\n",
        "params = {'usernames': 'BBVA_espana,santander_es,caixabank,BancoSabadell,Bankinter',}\n",
        "\n",
        "auth = OAuth1(ckey, csecret,\n",
        "               atoken, asecret)\n",
        "\n",
        "bancos = requests.get(url, params=params, headers=headers).json()\n",
        "bancos"
      ],
      "metadata": {
        "colab": {
          "base_uri": "https://localhost:8080/"
        },
        "id": "Jbgzas90PFxC",
        "outputId": "c1b796ce-a8c2-464e-f99a-58365ddab9f9"
      },
      "id": "Jbgzas90PFxC",
      "execution_count": 10,
      "outputs": [
        {
          "output_type": "execute_result",
          "data": {
            "text/plain": [
              "{'data': [{'id': '230123496',\n",
              "   'name': 'BBVA en España',\n",
              "   'username': 'BBVA_espana'},\n",
              "  {'id': '1372470686', 'name': 'Santander España', 'username': 'santander_es'},\n",
              "  {'id': '270429778', 'name': 'CaixaBank', 'username': 'caixabank'},\n",
              "  {'id': '9980072', 'name': 'Banco Sabadell', 'username': 'BancoSabadell'},\n",
              "  {'id': '86031609', 'name': 'Bankinter', 'username': 'Bankinter'}]}"
            ]
          },
          "metadata": {},
          "execution_count": 10
        }
      ]
    },
    {
      "cell_type": "code",
      "execution_count": 11,
      "id": "4bf6d466-543a-4556-b9f8-6c3b21182ff8",
      "metadata": {
        "id": "4bf6d466-543a-4556-b9f8-6c3b21182ff8"
      },
      "outputs": [],
      "source": [
        "# Se crea una funcion para buscar las menciones por ID, esta funcion devuelve dos DF, \n",
        "# El primero contiene todos los tweets que mencionan el ID del banco que corresponda. \n",
        "# El segundo contiene los usuarios que hacen mencion al ID. \n",
        "\n",
        "def buscar_tweets_mentions(mentions_id, cantidad_tweet=800):\n",
        "\n",
        "    headers = {'Authorization': f'Bearer {Bearer}'} # Variable de autorizador\n",
        "    url = f'https://api.twitter.com/2/users/{mentions_id}/mentions' # url de invocacion\n",
        "    respuesta = '' # variable que guarda toda la respuesta\n",
        "    usuarios = pd.DataFrame() # variable que guarda los usuarios\n",
        "    data = pd.DataFrame()\n",
        "    params = {\n",
        "        'expansions': 'author_id,geo.place_id',\n",
        "        'tweet.fields': 'conversation_id,created_at,lang,public_metrics,possibly_sensitive,source',\n",
        "        'max_results':100} \n",
        "\n",
        "    auth = OAuth1(ckey, csecret,\n",
        "               atoken, asecret)\n",
        "    \n",
        "    for cantidad in range(int(cantidad_tweet/100)):\n",
        "        respuesta = requests.get(url, params=params, headers=headers).json()\n",
        "        data = data.append(respuesta['data'])\n",
        "        usuarios = usuarios.append(respuesta['includes']['users'])\n",
        "        params = {\n",
        "            'expansions': 'author_id,geo.place_id',\n",
        "            'tweet.fields': 'conversation_id,created_at,lang,public_metrics,possibly_sensitive,source',\n",
        "            'pagination_token': respuesta['meta']['next_token'],\n",
        "            'max_results':100}\n",
        "    return data, usuarios"
      ]
    },
    {
      "cell_type": "code",
      "execution_count": 61,
      "id": "c8b1bd1f-8de2-4643-8c31-b62e04c8a3ab",
      "metadata": {
        "id": "c8b1bd1f-8de2-4643-8c31-b62e04c8a3ab"
      },
      "outputs": [],
      "source": [
        "#Se invoca la funcion pasando como dato el ID del usuario que previamente fue cargado. \n",
        "\n",
        "valores = bancos['data'] # Se toman los valores de la lista\n",
        "for i in valores:\n",
        "  id = i['id']\n",
        "  # Se invoca la llamada a la funcion\n",
        "  respuesta_funcion, usuarios_funcion = buscar_tweets_mentions(id)\n",
        "  # Se ajusta la columna de fecha\n",
        "  respuesta_funcion['created_at'] = pd.to_datetime(respuesta_funcion['created_at'])\n",
        "  # Se guardan los dos archivos con el nombre del ID\n",
        "  respuesta_funcion.to_csv(f'/content/drive/MyDrive/IEBS/Global Proyect/datos/{id}.csv')\n",
        "  usuarios_funcion.to_csv(f'/content/drive/MyDrive/IEBS/Global Proyect/datos/user-{id}.csv')\n",
        "  # Se realiza limpieza de variable\n",
        "  respuesta_limpia = data_cleaning(respuesta_funcion)\n",
        "  # Se guardan los dos archivos con el nombre del ID\n",
        "  respuesta_limpia.to_csv(f'/content/drive/MyDrive/IEBS/Global Proyect/datos/cleaning-{id}.csv')\n"
      ]
    },
    {
      "cell_type": "markdown",
      "source": [
        "# Data Cleaning"
      ],
      "metadata": {
        "id": "lEPObQgTTjFa"
      },
      "id": "lEPObQgTTjFa"
    },
    {
      "cell_type": "markdown",
      "metadata": {
        "id": "Fwi4O-SKP0LI"
      },
      "source": [
        "## Eliminar menciones"
      ],
      "id": "Fwi4O-SKP0LI"
    },
    {
      "cell_type": "code",
      "execution_count": 41,
      "metadata": {
        "id": "oDEdXPqyP0LI"
      },
      "outputs": [],
      "source": [
        "def remove_link(text):\n",
        "    text = \" \".join(filter(lambda x:x[0:4]!='http', text.split()))\n",
        "    return text"
      ],
      "id": "oDEdXPqyP0LI"
    },
    {
      "cell_type": "code",
      "execution_count": 42,
      "metadata": {
        "id": "qvwZ3CHBP0LJ"
      },
      "outputs": [],
      "source": [
        "def remove_mencion(text):\n",
        "    text = \" \".join(filter(lambda x:x[0]!='@', text.split()))\n",
        "    return text"
      ],
      "id": "qvwZ3CHBP0LJ"
    },
    {
      "cell_type": "markdown",
      "metadata": {
        "id": "Pz6vtqVpP0LL"
      },
      "source": [
        "## Se Eliminan los Caracteres Especiales\n",
        "\n",
        "👇 Remove punctuation and lower case the text."
      ],
      "id": "Pz6vtqVpP0LL"
    },
    {
      "cell_type": "code",
      "execution_count": 43,
      "metadata": {
        "colab": {
          "base_uri": "https://localhost:8080/",
          "height": 35
        },
        "id": "geo3Q-ebP0LL",
        "outputId": "faeedeeb-c23e-4447-a438-b9361c35b790"
      },
      "outputs": [
        {
          "output_type": "execute_result",
          "data": {
            "text/plain": [
              "'!\"#$%&\\'()*+,-./:;<=>?@[\\\\]^_`{|}~'"
            ],
            "application/vnd.google.colaboratory.intrinsic+json": {
              "type": "string"
            }
          },
          "metadata": {},
          "execution_count": 43
        }
      ],
      "source": [
        "string.punctuation"
      ],
      "id": "geo3Q-ebP0LL"
    },
    {
      "cell_type": "code",
      "execution_count": 44,
      "metadata": {
        "id": "UwGuNCvCP0LM"
      },
      "outputs": [],
      "source": [
        "def remove_puntuation(text):\n",
        "    mi_puntuacion = '!¡\"#$%&\\'()*+,-./:;<=>¿?@[\\\\]^_`{|}~'  \n",
        "    for punctuation in mi_puntuacion:\n",
        "        text = text.replace(punctuation, \" \")\n",
        "    return text"
      ],
      "id": "UwGuNCvCP0LM"
    },
    {
      "cell_type": "markdown",
      "metadata": {
        "id": "WVuuPimDP0LM"
      },
      "source": [
        "## Covierte en minusculas todo"
      ],
      "id": "WVuuPimDP0LM"
    },
    {
      "cell_type": "code",
      "execution_count": 45,
      "metadata": {
        "id": "9XnxvzdFP0LM"
      },
      "outputs": [],
      "source": [
        "def remove_lower(text1):\n",
        "    text1 = text1.lower()\n",
        "    return text1"
      ],
      "id": "9XnxvzdFP0LM"
    },
    {
      "cell_type": "markdown",
      "metadata": {
        "id": "G_6Vw8yhP0LN"
      },
      "source": [
        "## Elimina Acentos"
      ],
      "id": "G_6Vw8yhP0LN"
    },
    {
      "cell_type": "code",
      "execution_count": 46,
      "metadata": {
        "id": "YfwAm8WOP0LN"
      },
      "outputs": [],
      "source": [
        "def cambia_acentuadas(text):\n",
        "    trans_tab = dict.fromkeys(map(ord, u'\\u0301\\u0308'), None)\n",
        "    text = normalize('NFKC', normalize('NFKD', text).translate(trans_tab))\n",
        "    return text"
      ],
      "id": "YfwAm8WOP0LN"
    },
    {
      "cell_type": "markdown",
      "metadata": {
        "id": "bKStmbtJP0LN"
      },
      "source": [
        "## Remueve Numeros"
      ],
      "id": "bKStmbtJP0LN"
    },
    {
      "cell_type": "code",
      "execution_count": 47,
      "metadata": {
        "id": "nBa4n-xSP0LN"
      },
      "outputs": [],
      "source": [
        "def remove_numbers(text1):\n",
        "    text1 = ''.join(word for word in text1 if not word.isdigit())\n",
        "    return text1"
      ],
      "id": "nBa4n-xSP0LN"
    },
    {
      "cell_type": "markdown",
      "source": [
        "## Funcion de data_cleaning"
      ],
      "metadata": {
        "id": "oEk8XL-DWpGc"
      },
      "id": "oEk8XL-DWpGc"
    },
    {
      "cell_type": "code",
      "source": [
        "def data_cleaning(df):\n",
        "\n",
        "  df_cleaning = df\n",
        "\n",
        "  # Eliminar elementos duplicados\n",
        "#  df_cleaning.drop_duplicates(inplace=True)\n",
        "\n",
        "  # Eliminar menciones\n",
        "  df_cleaning['text'] = df_cleaning['text'].apply(remove_mencion)\n",
        "\n",
        "  # Eliminar los caracteres iniciales (espacio al principio y finales (espacion al final))\n",
        "  df_cleaning['text'] = df_cleaning['text'].str.strip()\n",
        "\n",
        "  # Elimina los caracteres especiales\n",
        "  df_cleaning['text'] = df_cleaning['text'].apply(remove_puntuation)\n",
        "\n",
        "  # Convierte todo en minusculas\n",
        "  df_cleaning['text'] = df_cleaning['text'].apply(remove_lower)\n",
        "\n",
        "  # Elimina acentos\n",
        "  df_cleaning['text'] = df_cleaning['text'].apply(cambia_acentuadas)\n",
        "\n",
        "  # Elimina numeros\n",
        "  df_cleaning['text'] = df_cleaning['text'].apply(remove_numbers)\n",
        "\n",
        "  return df_cleaning"
      ],
      "metadata": {
        "id": "y3RLQDY5UvI0"
      },
      "id": "y3RLQDY5UvI0",
      "execution_count": 58,
      "outputs": []
    }
  ],
  "metadata": {
    "kernelspec": {
      "display_name": "Python 3",
      "language": "python",
      "name": "python3"
    },
    "language_info": {
      "codemirror_mode": {
        "name": "ipython",
        "version": 3
      },
      "file_extension": ".py",
      "mimetype": "text/x-python",
      "name": "python",
      "nbconvert_exporter": "python",
      "pygments_lexer": "ipython3",
      "version": "3.8.6"
    },
    "colab": {
      "name": "search twitter.ipynb",
      "provenance": []
    }
  },
  "nbformat": 4,
  "nbformat_minor": 5
}