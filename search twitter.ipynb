{
  "cells": [
    {
      "cell_type": "markdown",
      "source": [
        "# **IEBS - Proyecto Final**\n",
        "\n",
        "Este notebook se encarga a traves de las APi de twitter buscar los tweets de los diferentes bancos a ser evaluados. Con esto se genera un archivo csv de los tweets y de los usuarios. \n",
        "\n",
        "* Se incluyo la limpieza de los datos de text, para esto se incluyeron unas librerias nuevas que realizan este proceso. Se creo la funcion data_cleaning\n",
        "\n",
        "Se generan 3 archivos:\n",
        "\n",
        "* {id}.csv = Contine los datos de ese ID\n",
        "\n",
        "* cleaning-\n",
        "\n",
        "```\n",
        "# Esto tiene formato de código\n",
        "```\n",
        "\n",
        "{id}.csv = Contiene los datos de ese ID con el text limpio \n",
        "\n",
        "* user-{id}.csv = Contiene los datos de los usuarios para los tweets buscados de ese id"
      ],
      "metadata": {
        "id": "58NKyYXscuKv"
      },
      "id": "58NKyYXscuKv"
    },
    {
      "cell_type": "markdown",
      "source": [
        "# Instalacion de librerias\n",
        "\n",
        "Instalacion de las librerias opcionales que son necesarias para la limpieza de los datos. Se ejecuta una sola vez en el notebook."
      ],
      "metadata": {
        "id": "1-ZyooFZXQ6b"
      },
      "id": "1-ZyooFZXQ6b"
    },
    {
      "cell_type": "code",
      "execution_count": 1,
      "metadata": {
        "colab": {
          "base_uri": "https://localhost:8080/"
        },
        "id": "IxxxI23hP0LB",
        "outputId": "ed23ce16-d969-4c52-fbdc-39247bee8ffe"
      },
      "outputs": [
        {
          "output_type": "stream",
          "name": "stdout",
          "text": [
            "Looking in indexes: https://pypi.org/simple, https://us-python.pkg.dev/colab-wheels/public/simple/\n",
            "Requirement already satisfied: nltk in /usr/local/lib/python3.7/dist-packages (3.7)\n",
            "Requirement already satisfied: tqdm in /usr/local/lib/python3.7/dist-packages (from nltk) (4.64.0)\n",
            "Requirement already satisfied: regex>=2021.8.3 in /usr/local/lib/python3.7/dist-packages (from nltk) (2022.6.2)\n",
            "Requirement already satisfied: click in /usr/local/lib/python3.7/dist-packages (from nltk) (7.1.2)\n",
            "Requirement already satisfied: joblib in /usr/local/lib/python3.7/dist-packages (from nltk) (1.1.0)\n"
          ]
        }
      ],
      "source": [
        "!pip install nltk"
      ],
      "id": "IxxxI23hP0LB"
    },
    {
      "cell_type": "code",
      "execution_count": 2,
      "metadata": {
        "colab": {
          "base_uri": "https://localhost:8080/"
        },
        "id": "Z7-PGU0tP0LC",
        "outputId": "1450ce2c-5046-4425-d50e-fcbb37098c4c"
      },
      "outputs": [
        {
          "output_type": "stream",
          "name": "stdout",
          "text": [
            "Looking in indexes: https://pypi.org/simple, https://us-python.pkg.dev/colab-wheels/public/simple/\n",
            "Collecting datetime\n",
            "  Downloading DateTime-4.5-py2.py3-none-any.whl (52 kB)\n",
            "\u001b[K     |████████████████████████████████| 52 kB 639 kB/s \n",
            "\u001b[?25hCollecting zope.interface\n",
            "  Downloading zope.interface-5.4.0-cp37-cp37m-manylinux2010_x86_64.whl (251 kB)\n",
            "\u001b[K     |████████████████████████████████| 251 kB 10.5 MB/s \n",
            "\u001b[?25hRequirement already satisfied: pytz in /usr/local/lib/python3.7/dist-packages (from datetime) (2022.2.1)\n",
            "Requirement already satisfied: setuptools in /usr/local/lib/python3.7/dist-packages (from zope.interface->datetime) (57.4.0)\n",
            "Installing collected packages: zope.interface, datetime\n",
            "Successfully installed datetime-4.5 zope.interface-5.4.0\n"
          ]
        }
      ],
      "source": [
        "!pip install datetime"
      ],
      "id": "Z7-PGU0tP0LC"
    },
    {
      "cell_type": "code",
      "execution_count": 3,
      "metadata": {
        "colab": {
          "base_uri": "https://localhost:8080/"
        },
        "id": "RGf7CyCcP0LA",
        "outputId": "b5b226d6-8863-434b-c54e-815d33f71937"
      },
      "outputs": [
        {
          "output_type": "stream",
          "name": "stdout",
          "text": [
            "Looking in indexes: https://pypi.org/simple, https://us-python.pkg.dev/colab-wheels/public/simple/\n",
            "Collecting unidecode\n",
            "  Downloading Unidecode-1.3.4-py3-none-any.whl (235 kB)\n",
            "\u001b[K     |████████████████████████████████| 235 kB 5.5 MB/s \n",
            "\u001b[?25hInstalling collected packages: unidecode\n",
            "Successfully installed unidecode-1.3.4\n"
          ]
        }
      ],
      "source": [
        "!pip install unidecode"
      ],
      "id": "RGf7CyCcP0LA"
    },
    {
      "cell_type": "markdown",
      "source": [
        "# Preparacion del entorno\n",
        "\n",
        "Se prepara el entorno para ejecutar los tweets.\n",
        "\n",
        "* se importan las librerias\n",
        "\n",
        "* se conecta con el google drive para guardar los archivos\n",
        "\n",
        "* se importan los datos para conectarse con twitter"
      ],
      "metadata": {
        "id": "xg-HCqW-XcNP"
      },
      "id": "xg-HCqW-XcNP"
    },
    {
      "cell_type": "code",
      "source": [
        "# Importar el driver para almacenar los datos\n",
        "\n",
        "from google.colab import drive\n",
        "drive.mount('/content/drive')"
      ],
      "metadata": {
        "colab": {
          "base_uri": "https://localhost:8080/"
        },
        "id": "hNgG6lUHrcCg",
        "outputId": "7eae5745-26a9-49a8-ceb8-b02f96c70fa2"
      },
      "id": "hNgG6lUHrcCg",
      "execution_count": 4,
      "outputs": [
        {
          "output_type": "stream",
          "name": "stdout",
          "text": [
            "Mounted at /content/drive\n"
          ]
        }
      ]
    },
    {
      "cell_type": "code",
      "execution_count": 5,
      "id": "ce521069-6240-4bfa-ad84-7d49ea13374f",
      "metadata": {
        "id": "ce521069-6240-4bfa-ad84-7d49ea13374f"
      },
      "outputs": [],
      "source": [
        "%load_ext autoreload\n",
        "%autoreload 2"
      ]
    },
    {
      "cell_type": "code",
      "execution_count": 6,
      "id": "4b1d7fa8-f2fa-416b-b58d-47244192fd55",
      "metadata": {
        "id": "4b1d7fa8-f2fa-416b-b58d-47244192fd55"
      },
      "outputs": [],
      "source": [
        "# Se importan las librerias a utilizar durante todo el proyecto. \n",
        "import requests\n",
        "from requests_oauthlib import OAuth1\n",
        "import pandas as pd\n",
        "\n",
        "from tweepy import OAuthHandler, API, Cursor\n",
        "import json\n",
        "\n",
        "import string\n",
        "from nltk.tokenize import word_tokenize\n",
        "from datetime import datetime\n",
        "import unidecode\n",
        "from unicodedata import normalize\n",
        "\n",
        "import warnings\n",
        "warnings.filterwarnings('ignore')"
      ]
    },
    {
      "cell_type": "code",
      "source": [
        "# Se leen todos los datos para la conexion desde un archivo json\n",
        "tweets_df = pd.read_json('/content/drive/MyDrive/datos/twitter.json')\n",
        "\n",
        "# Se colocan las variables de trabajo\n",
        "ckey = tweets_df['ckey'][0]\n",
        "csecret = tweets_df['csecret'][0]\n",
        "atoken = tweets_df['atoken'][0]\n",
        "asecret = tweets_df['asecret'][0]\n",
        "Bearer = tweets_df['Bearer'][0]"
      ],
      "metadata": {
        "id": "ACBU4YABeuCI"
      },
      "id": "ACBU4YABeuCI",
      "execution_count": 7,
      "outputs": []
    },
    {
      "cell_type": "code",
      "execution_count": 8,
      "id": "2642d8b3-083c-4408-9180-0b5f67478680",
      "metadata": {
        "id": "2642d8b3-083c-4408-9180-0b5f67478680"
      },
      "outputs": [],
      "source": [
        "# Se genera una instancia de autenticacion\n",
        "auth = OAuthHandler(ckey, csecret)\n",
        "auth.set_access_token(atoken, asecret)"
      ]
    },
    {
      "cell_type": "code",
      "execution_count": 9,
      "id": "4b8ceb1c-99ad-408e-8157-f8ac0f8f4f37",
      "metadata": {
        "id": "4b8ceb1c-99ad-408e-8157-f8ac0f8f4f37"
      },
      "outputs": [],
      "source": [
        "# Se realiza una prueba del api. \n",
        "api = API(auth,\n",
        "        wait_on_rate_limit=True,\n",
        "        wait_on_rate_limit_notify=True)"
      ]
    },
    {
      "cell_type": "markdown",
      "id": "9d5f482b-57ec-47dd-8e9d-a5b56ac9d53b",
      "metadata": {
        "id": "9d5f482b-57ec-47dd-8e9d-a5b56ac9d53b"
      },
      "source": [
        "# API con request\n",
        "\n",
        "* Se invoca el API para traer los ID de los usuarios\n",
        "\n",
        "* Se invoca el API para traer los 800 registros de cada ID\n",
        "\n",
        "* Se realiza limpieza de los datos y se graban los csv correspondientes\n"
      ]
    },
    {
      "cell_type": "code",
      "source": [
        "# Se invoca el API que permite buscar a traves del nombre de usuario el ID para las busquedas de las menciones. \n",
        "\n",
        "headers = {'Authorization': f'Bearer {Bearer}'} # Variable de autorizador\n",
        "url = f'https://api.twitter.com/2/users/by' # url de invocacion\n",
        "bancos = '' # variable que guarda toda la respuesta\n",
        "\n",
        "params = {'usernames': 'BBVA_espana,santander_es,caixabank,BancoSabadell,Bankinter',}\n",
        "\n",
        "auth = OAuth1(ckey, csecret,\n",
        "               atoken, asecret)\n",
        "\n",
        "bancos = requests.get(url, params=params, headers=headers).json()\n",
        "bancos"
      ],
      "metadata": {
        "colab": {
          "base_uri": "https://localhost:8080/"
        },
        "id": "Jbgzas90PFxC",
        "outputId": "78e7d430-a823-432c-c1c2-acbf62d6b174"
      },
      "id": "Jbgzas90PFxC",
      "execution_count": 10,
      "outputs": [
        {
          "output_type": "execute_result",
          "data": {
            "text/plain": [
              "{'data': [{'id': '230123496',\n",
              "   'name': 'BBVA en España',\n",
              "   'username': 'BBVA_espana'},\n",
              "  {'id': '1372470686', 'name': 'Santander España', 'username': 'santander_es'},\n",
              "  {'id': '270429778', 'name': 'CaixaBank', 'username': 'caixabank'},\n",
              "  {'id': '9980072', 'name': 'Banco Sabadell', 'username': 'BancoSabadell'},\n",
              "  {'id': '86031609', 'name': 'Bankinter', 'username': 'Bankinter'}]}"
            ]
          },
          "metadata": {},
          "execution_count": 10
        }
      ]
    },
    {
      "cell_type": "code",
      "execution_count": 11,
      "id": "4bf6d466-543a-4556-b9f8-6c3b21182ff8",
      "metadata": {
        "id": "4bf6d466-543a-4556-b9f8-6c3b21182ff8"
      },
      "outputs": [],
      "source": [
        "# Se crea una funcion para buscar las menciones por ID, esta funcion devuelve dos DF, \n",
        "# El primero contiene todos los tweets que mencionan el ID del banco que corresponda. \n",
        "# El segundo contiene los usuarios que hacen mencion al ID. \n",
        "\n",
        "def buscar_tweets_mentions(mentions_id, cantidad_tweet=800):\n",
        "\n",
        "    headers = {'Authorization': f'Bearer {Bearer}'} # Variable de autorizador\n",
        "    url = f'https://api.twitter.com/2/users/{mentions_id}/mentions' # url de invocacion\n",
        "    respuesta = '' # variable que guarda toda la respuesta\n",
        "    usuarios = pd.DataFrame() # variable que guarda los usuarios\n",
        "    data = pd.DataFrame()\n",
        "    params = {\n",
        "        'expansions': 'author_id,geo.place_id',\n",
        "        'tweet.fields': 'conversation_id,created_at,lang,public_metrics,possibly_sensitive,source',\n",
        "        'max_results':100} \n",
        "\n",
        "    auth = OAuth1(ckey, csecret,\n",
        "               atoken, asecret)\n",
        "    \n",
        "    for cantidad in range(int(cantidad_tweet/100)):\n",
        "        respuesta = requests.get(url, params=params, headers=headers).json()\n",
        "        data = data.append(respuesta['data'])\n",
        "        usuarios = usuarios.append(respuesta['includes']['users'])\n",
        "        params = {\n",
        "            'expansions': 'author_id,geo.place_id',\n",
        "            'tweet.fields': 'conversation_id,created_at,lang,public_metrics,possibly_sensitive,source',\n",
        "            'pagination_token': respuesta['meta']['next_token'],\n",
        "            'max_results':100}\n",
        "    return data, usuarios"
      ]
    },
    {
      "cell_type": "code",
      "source": [
        "# Columna de prueba ELIMINAR\n",
        "respuesta_funcion, usuarios_funcion = buscar_tweets_mentions(1372470686)"
      ],
      "metadata": {
        "id": "3Wx-QxFNUO8l"
      },
      "id": "3Wx-QxFNUO8l",
      "execution_count": 59,
      "outputs": []
    },
    {
      "cell_type": "code",
      "source": [
        "respuesta_funcion.head()"
      ],
      "metadata": {
        "id": "rjM_bEvEUXdx",
        "outputId": "f961c9d7-3c75-4af0-f823-410be0859d11",
        "colab": {
          "base_uri": "https://localhost:8080/",
          "height": 496
        }
      },
      "id": "rjM_bEvEUXdx",
      "execution_count": 60,
      "outputs": [
        {
          "output_type": "execute_result",
          "data": {
            "text/plain": [
              "               source                   id lang            author_id  \\\n",
              "0  Twitter for iPhone  1561391290482401282   es            471258395   \n",
              "1  Twitter for iPhone  1561390305961713665   es   810953027049975809   \n",
              "2  Twitter for iPhone  1561383588079321088   es  1296205551962128385   \n",
              "3           Metricool  1561375377448116229   es             98842002   \n",
              "4  Twitter for iPhone  1561355152254181378  qam  1442225852532412417   \n",
              "\n",
              "                                      public_metrics  \\\n",
              "0  {'retweet_count': 0, 'reply_count': 0, 'like_c...   \n",
              "1  {'retweet_count': 0, 'reply_count': 0, 'like_c...   \n",
              "2  {'retweet_count': 0, 'reply_count': 1, 'like_c...   \n",
              "3  {'retweet_count': 0, 'reply_count': 0, 'like_c...   \n",
              "4  {'retweet_count': 0, 'reply_count': 0, 'like_c...   \n",
              "\n",
              "                                                text  possibly_sensitive  \\\n",
              "0  @mediasverdis @santander_es @realracingclub @A...               False   \n",
              "1  @xuan_fernandez @santander_es Culpa tuya por t...               False   \n",
              "2  Cuidado! Estafadores haciéndose pasar por @san...               False   \n",
              "3  🤝@santander_es ofrece cursos para formar a sus...               False   \n",
              "4  @otteroooo @DigPerspectives @IooP_rM311_7211 @...               False   \n",
              "\n",
              "                 created_at      conversation_id  geo  \n",
              "0  2022-08-21T16:34:27.000Z  1561091985296990211  NaN  \n",
              "1  2022-08-21T16:30:32.000Z  1560971603697082369  NaN  \n",
              "2  2022-08-21T16:03:51.000Z  1561383588079321088  NaN  \n",
              "3  2022-08-21T15:31:13.000Z  1561375377448116229  NaN  \n",
              "4  2022-08-21T14:10:51.000Z  1561352795654983680  NaN  "
            ],
            "text/html": [
              "\n",
              "  <div id=\"df-a117b3f6-3b5d-46ba-bf32-94b21dd047ff\">\n",
              "    <div class=\"colab-df-container\">\n",
              "      <div>\n",
              "<style scoped>\n",
              "    .dataframe tbody tr th:only-of-type {\n",
              "        vertical-align: middle;\n",
              "    }\n",
              "\n",
              "    .dataframe tbody tr th {\n",
              "        vertical-align: top;\n",
              "    }\n",
              "\n",
              "    .dataframe thead th {\n",
              "        text-align: right;\n",
              "    }\n",
              "</style>\n",
              "<table border=\"1\" class=\"dataframe\">\n",
              "  <thead>\n",
              "    <tr style=\"text-align: right;\">\n",
              "      <th></th>\n",
              "      <th>source</th>\n",
              "      <th>id</th>\n",
              "      <th>lang</th>\n",
              "      <th>author_id</th>\n",
              "      <th>public_metrics</th>\n",
              "      <th>text</th>\n",
              "      <th>possibly_sensitive</th>\n",
              "      <th>created_at</th>\n",
              "      <th>conversation_id</th>\n",
              "      <th>geo</th>\n",
              "    </tr>\n",
              "  </thead>\n",
              "  <tbody>\n",
              "    <tr>\n",
              "      <th>0</th>\n",
              "      <td>Twitter for iPhone</td>\n",
              "      <td>1561391290482401282</td>\n",
              "      <td>es</td>\n",
              "      <td>471258395</td>\n",
              "      <td>{'retweet_count': 0, 'reply_count': 0, 'like_c...</td>\n",
              "      <td>@mediasverdis @santander_es @realracingclub @A...</td>\n",
              "      <td>False</td>\n",
              "      <td>2022-08-21T16:34:27.000Z</td>\n",
              "      <td>1561091985296990211</td>\n",
              "      <td>NaN</td>\n",
              "    </tr>\n",
              "    <tr>\n",
              "      <th>1</th>\n",
              "      <td>Twitter for iPhone</td>\n",
              "      <td>1561390305961713665</td>\n",
              "      <td>es</td>\n",
              "      <td>810953027049975809</td>\n",
              "      <td>{'retweet_count': 0, 'reply_count': 0, 'like_c...</td>\n",
              "      <td>@xuan_fernandez @santander_es Culpa tuya por t...</td>\n",
              "      <td>False</td>\n",
              "      <td>2022-08-21T16:30:32.000Z</td>\n",
              "      <td>1560971603697082369</td>\n",
              "      <td>NaN</td>\n",
              "    </tr>\n",
              "    <tr>\n",
              "      <th>2</th>\n",
              "      <td>Twitter for iPhone</td>\n",
              "      <td>1561383588079321088</td>\n",
              "      <td>es</td>\n",
              "      <td>1296205551962128385</td>\n",
              "      <td>{'retweet_count': 0, 'reply_count': 1, 'like_c...</td>\n",
              "      <td>Cuidado! Estafadores haciéndose pasar por @san...</td>\n",
              "      <td>False</td>\n",
              "      <td>2022-08-21T16:03:51.000Z</td>\n",
              "      <td>1561383588079321088</td>\n",
              "      <td>NaN</td>\n",
              "    </tr>\n",
              "    <tr>\n",
              "      <th>3</th>\n",
              "      <td>Metricool</td>\n",
              "      <td>1561375377448116229</td>\n",
              "      <td>es</td>\n",
              "      <td>98842002</td>\n",
              "      <td>{'retweet_count': 0, 'reply_count': 0, 'like_c...</td>\n",
              "      <td>🤝@santander_es ofrece cursos para formar a sus...</td>\n",
              "      <td>False</td>\n",
              "      <td>2022-08-21T15:31:13.000Z</td>\n",
              "      <td>1561375377448116229</td>\n",
              "      <td>NaN</td>\n",
              "    </tr>\n",
              "    <tr>\n",
              "      <th>4</th>\n",
              "      <td>Twitter for iPhone</td>\n",
              "      <td>1561355152254181378</td>\n",
              "      <td>qam</td>\n",
              "      <td>1442225852532412417</td>\n",
              "      <td>{'retweet_count': 0, 'reply_count': 0, 'like_c...</td>\n",
              "      <td>@otteroooo @DigPerspectives @IooP_rM311_7211 @...</td>\n",
              "      <td>False</td>\n",
              "      <td>2022-08-21T14:10:51.000Z</td>\n",
              "      <td>1561352795654983680</td>\n",
              "      <td>NaN</td>\n",
              "    </tr>\n",
              "  </tbody>\n",
              "</table>\n",
              "</div>\n",
              "      <button class=\"colab-df-convert\" onclick=\"convertToInteractive('df-a117b3f6-3b5d-46ba-bf32-94b21dd047ff')\"\n",
              "              title=\"Convert this dataframe to an interactive table.\"\n",
              "              style=\"display:none;\">\n",
              "        \n",
              "  <svg xmlns=\"http://www.w3.org/2000/svg\" height=\"24px\"viewBox=\"0 0 24 24\"\n",
              "       width=\"24px\">\n",
              "    <path d=\"M0 0h24v24H0V0z\" fill=\"none\"/>\n",
              "    <path d=\"M18.56 5.44l.94 2.06.94-2.06 2.06-.94-2.06-.94-.94-2.06-.94 2.06-2.06.94zm-11 1L8.5 8.5l.94-2.06 2.06-.94-2.06-.94L8.5 2.5l-.94 2.06-2.06.94zm10 10l.94 2.06.94-2.06 2.06-.94-2.06-.94-.94-2.06-.94 2.06-2.06.94z\"/><path d=\"M17.41 7.96l-1.37-1.37c-.4-.4-.92-.59-1.43-.59-.52 0-1.04.2-1.43.59L10.3 9.45l-7.72 7.72c-.78.78-.78 2.05 0 2.83L4 21.41c.39.39.9.59 1.41.59.51 0 1.02-.2 1.41-.59l7.78-7.78 2.81-2.81c.8-.78.8-2.07 0-2.86zM5.41 20L4 18.59l7.72-7.72 1.47 1.35L5.41 20z\"/>\n",
              "  </svg>\n",
              "      </button>\n",
              "      \n",
              "  <style>\n",
              "    .colab-df-container {\n",
              "      display:flex;\n",
              "      flex-wrap:wrap;\n",
              "      gap: 12px;\n",
              "    }\n",
              "\n",
              "    .colab-df-convert {\n",
              "      background-color: #E8F0FE;\n",
              "      border: none;\n",
              "      border-radius: 50%;\n",
              "      cursor: pointer;\n",
              "      display: none;\n",
              "      fill: #1967D2;\n",
              "      height: 32px;\n",
              "      padding: 0 0 0 0;\n",
              "      width: 32px;\n",
              "    }\n",
              "\n",
              "    .colab-df-convert:hover {\n",
              "      background-color: #E2EBFA;\n",
              "      box-shadow: 0px 1px 2px rgba(60, 64, 67, 0.3), 0px 1px 3px 1px rgba(60, 64, 67, 0.15);\n",
              "      fill: #174EA6;\n",
              "    }\n",
              "\n",
              "    [theme=dark] .colab-df-convert {\n",
              "      background-color: #3B4455;\n",
              "      fill: #D2E3FC;\n",
              "    }\n",
              "\n",
              "    [theme=dark] .colab-df-convert:hover {\n",
              "      background-color: #434B5C;\n",
              "      box-shadow: 0px 1px 3px 1px rgba(0, 0, 0, 0.15);\n",
              "      filter: drop-shadow(0px 1px 2px rgba(0, 0, 0, 0.3));\n",
              "      fill: #FFFFFF;\n",
              "    }\n",
              "  </style>\n",
              "\n",
              "      <script>\n",
              "        const buttonEl =\n",
              "          document.querySelector('#df-a117b3f6-3b5d-46ba-bf32-94b21dd047ff button.colab-df-convert');\n",
              "        buttonEl.style.display =\n",
              "          google.colab.kernel.accessAllowed ? 'block' : 'none';\n",
              "\n",
              "        async function convertToInteractive(key) {\n",
              "          const element = document.querySelector('#df-a117b3f6-3b5d-46ba-bf32-94b21dd047ff');\n",
              "          const dataTable =\n",
              "            await google.colab.kernel.invokeFunction('convertToInteractive',\n",
              "                                                     [key], {});\n",
              "          if (!dataTable) return;\n",
              "\n",
              "          const docLinkHtml = 'Like what you see? Visit the ' +\n",
              "            '<a target=\"_blank\" href=https://colab.research.google.com/notebooks/data_table.ipynb>data table notebook</a>'\n",
              "            + ' to learn more about interactive tables.';\n",
              "          element.innerHTML = '';\n",
              "          dataTable['output_type'] = 'display_data';\n",
              "          await google.colab.output.renderOutput(dataTable, element);\n",
              "          const docLink = document.createElement('div');\n",
              "          docLink.innerHTML = docLinkHtml;\n",
              "          element.appendChild(docLink);\n",
              "        }\n",
              "      </script>\n",
              "    </div>\n",
              "  </div>\n",
              "  "
            ]
          },
          "metadata": {},
          "execution_count": 60
        }
      ]
    },
    {
      "cell_type": "code",
      "source": [
        "respuesta_funcion['lang'].value_counts()"
      ],
      "metadata": {
        "colab": {
          "base_uri": "https://localhost:8080/"
        },
        "id": "b-sHliDHU_7W",
        "outputId": "c70be4a5-3e5c-4cf8-e633-2db9d930e48b"
      },
      "id": "b-sHliDHU_7W",
      "execution_count": 61,
      "outputs": [
        {
          "output_type": "execute_result",
          "data": {
            "text/plain": [
              "es     580\n",
              "qme    125\n",
              "en      41\n",
              "qam     22\n",
              "und     10\n",
              "pt       8\n",
              "in       4\n",
              "ca       4\n",
              "fr       4\n",
              "eu       2\n",
              "Name: lang, dtype: int64"
            ]
          },
          "metadata": {},
          "execution_count": 61
        }
      ]
    },
    {
      "cell_type": "code",
      "source": [
        "respuesta_funcion = respuesta_funcion.loc[respuesta_funcion['lang'] == 'es', :]"
      ],
      "metadata": {
        "id": "eXWRGvDkXCMv"
      },
      "id": "eXWRGvDkXCMv",
      "execution_count": 62,
      "outputs": []
    },
    {
      "cell_type": "code",
      "source": [
        "respuesta_funcion.shape"
      ],
      "metadata": {
        "id": "P5-I37NmZHRW",
        "outputId": "14bbdb05-e6bb-4060-ef64-b75ac462f58a",
        "colab": {
          "base_uri": "https://localhost:8080/"
        }
      },
      "id": "P5-I37NmZHRW",
      "execution_count": 65,
      "outputs": [
        {
          "output_type": "execute_result",
          "data": {
            "text/plain": [
              "(580, 10)"
            ]
          },
          "metadata": {},
          "execution_count": 65
        }
      ]
    },
    {
      "cell_type": "code",
      "execution_count": null,
      "id": "c8b1bd1f-8de2-4643-8c31-b62e04c8a3ab",
      "metadata": {
        "id": "c8b1bd1f-8de2-4643-8c31-b62e04c8a3ab"
      },
      "outputs": [],
      "source": [
        "\n",
        "#Se invoca la funcion pasando como dato el ID del usuario que previamente fue cargado. \n",
        "\n",
        "valores = bancos['data'] # Se toman los valores de la lista\n",
        "for i in valores:\n",
        "  id = i['id']\n",
        "  # Se invoca la llamada a la funcion\n",
        "  respuesta_funcion, usuarios_funcion = buscar_tweets_mentions(id)\n",
        "  # Se ajusta la columna de fecha\n",
        "  respuesta_funcion['created_at'] = pd.to_datetime(respuesta_funcion['created_at'])\n",
        "  # Se guardan los dos archivos con el nombre del ID\n",
        "  respuesta_funcion.to_csv(f'/content/drive/MyDrive/IEBS/Global Proyect/datos/{id}.csv')\n",
        "  usuarios_funcion.to_csv(f'/content/drive/MyDrive/IEBS/Global Proyect/datos/user-{id}.csv')\n",
        "  # Se realiza limpieza de variable\n",
        "  respuesta_limpia = data_cleaning(respuesta_funcion)\n",
        "  # Se guardan los dos archivos con el nombre del ID\n",
        "  respuesta_limpia.to_csv(f'/content/drive/MyDrive/IEBS/Global Proyect/datos/cleaning-{id}.csv')\n"
      ]
    },
    {
      "cell_type": "markdown",
      "source": [
        "# Data Cleaning\n",
        "\n",
        "Este apartado realiza la limpieza de los datos de text."
      ],
      "metadata": {
        "id": "lEPObQgTTjFa"
      },
      "id": "lEPObQgTTjFa"
    },
    {
      "cell_type": "markdown",
      "source": [
        "## Dejar tweets con idioma español"
      ],
      "metadata": {
        "id": "FMhVZLtZZrjF"
      },
      "id": "FMhVZLtZZrjF"
    },
    {
      "cell_type": "code",
      "source": [
        "def remove_idioma(df):\n",
        "    return df.loc[df['lang'] == 'es', :]"
      ],
      "metadata": {
        "id": "uvmM3is7Z2rC"
      },
      "id": "uvmM3is7Z2rC",
      "execution_count": null,
      "outputs": []
    },
    {
      "cell_type": "markdown",
      "metadata": {
        "id": "Fwi4O-SKP0LI"
      },
      "source": [
        "## Eliminar menciones"
      ],
      "id": "Fwi4O-SKP0LI"
    },
    {
      "cell_type": "code",
      "execution_count": null,
      "metadata": {
        "id": "oDEdXPqyP0LI"
      },
      "outputs": [],
      "source": [
        "def remove_link(text):\n",
        "    text = \" \".join(filter(lambda x:x[0:4]!='http', text.split()))\n",
        "    return text"
      ],
      "id": "oDEdXPqyP0LI"
    },
    {
      "cell_type": "code",
      "execution_count": null,
      "metadata": {
        "id": "qvwZ3CHBP0LJ"
      },
      "outputs": [],
      "source": [
        "def remove_mencion(text):\n",
        "    text = \" \".join(filter(lambda x:x[0]!='@', text.split()))\n",
        "    return text"
      ],
      "id": "qvwZ3CHBP0LJ"
    },
    {
      "cell_type": "markdown",
      "metadata": {
        "id": "Pz6vtqVpP0LL"
      },
      "source": [
        "## Se Eliminan los Caracteres Especiales\n",
        "\n",
        "👇 Remove punctuation and lower case the text."
      ],
      "id": "Pz6vtqVpP0LL"
    },
    {
      "cell_type": "code",
      "execution_count": null,
      "metadata": {
        "colab": {
          "base_uri": "https://localhost:8080/",
          "height": 35
        },
        "id": "geo3Q-ebP0LL",
        "outputId": "faeedeeb-c23e-4447-a438-b9361c35b790"
      },
      "outputs": [
        {
          "output_type": "execute_result",
          "data": {
            "text/plain": [
              "'!\"#$%&\\'()*+,-./:;<=>?@[\\\\]^_`{|}~'"
            ],
            "application/vnd.google.colaboratory.intrinsic+json": {
              "type": "string"
            }
          },
          "metadata": {},
          "execution_count": 43
        }
      ],
      "source": [
        "string.punctuation"
      ],
      "id": "geo3Q-ebP0LL"
    },
    {
      "cell_type": "code",
      "execution_count": null,
      "metadata": {
        "id": "UwGuNCvCP0LM"
      },
      "outputs": [],
      "source": [
        "def remove_puntuation(text):\n",
        "    mi_puntuacion = '!¡\"#$%&\\'()*+,-./:;<=>¿?@[\\\\]^_`{|}~'  \n",
        "    for punctuation in mi_puntuacion:\n",
        "        text = text.replace(punctuation, \" \")\n",
        "    return text"
      ],
      "id": "UwGuNCvCP0LM"
    },
    {
      "cell_type": "markdown",
      "metadata": {
        "id": "WVuuPimDP0LM"
      },
      "source": [
        "## Covierte en minusculas todo"
      ],
      "id": "WVuuPimDP0LM"
    },
    {
      "cell_type": "code",
      "execution_count": null,
      "metadata": {
        "id": "9XnxvzdFP0LM"
      },
      "outputs": [],
      "source": [
        "def remove_lower(text1):\n",
        "    text1 = text1.lower()\n",
        "    return text1"
      ],
      "id": "9XnxvzdFP0LM"
    },
    {
      "cell_type": "markdown",
      "metadata": {
        "id": "G_6Vw8yhP0LN"
      },
      "source": [
        "## Elimina Acentos"
      ],
      "id": "G_6Vw8yhP0LN"
    },
    {
      "cell_type": "code",
      "execution_count": null,
      "metadata": {
        "id": "YfwAm8WOP0LN"
      },
      "outputs": [],
      "source": [
        "def cambia_acentuadas(text):\n",
        "    trans_tab = dict.fromkeys(map(ord, u'\\u0301\\u0308'), None)\n",
        "    text = normalize('NFKC', normalize('NFKD', text).translate(trans_tab))\n",
        "    return text"
      ],
      "id": "YfwAm8WOP0LN"
    },
    {
      "cell_type": "markdown",
      "metadata": {
        "id": "bKStmbtJP0LN"
      },
      "source": [
        "## Remueve Numeros"
      ],
      "id": "bKStmbtJP0LN"
    },
    {
      "cell_type": "code",
      "execution_count": null,
      "metadata": {
        "id": "nBa4n-xSP0LN"
      },
      "outputs": [],
      "source": [
        "def remove_numbers(text1):\n",
        "    text1 = ''.join(word for word in text1 if not word.isdigit())\n",
        "    return text1"
      ],
      "id": "nBa4n-xSP0LN"
    },
    {
      "cell_type": "markdown",
      "source": [
        "## Funcion de data_cleaning"
      ],
      "metadata": {
        "id": "oEk8XL-DWpGc"
      },
      "id": "oEk8XL-DWpGc"
    },
    {
      "cell_type": "code",
      "source": [
        "def data_cleaning(df):\n",
        "\n",
        "  df_cleaning = df\n",
        "\n",
        "  # Eliminar elementos duplicados\n",
        "#  df_cleaning.drop_duplicates(inplace=True)\n",
        "\n",
        "  # Eliminar menciones\n",
        "  df_cleaning['text'] = df_cleaning['text'].apply(remove_mencion)\n",
        "\n",
        "\n",
        "  # Eliminar menciones\n",
        "  df_cleaning['text'] = df_cleaning['text'].apply(remove_mencion)\n",
        "\n",
        "  # Eliminar los caracteres iniciales (espacio al principio y finales (espacion al final))\n",
        "  df_cleaning['text'] = df_cleaning['text'].str.strip()\n",
        "\n",
        "  # Elimina los caracteres especiales\n",
        "  df_cleaning['text'] = df_cleaning['text'].apply(remove_puntuation)\n",
        "\n",
        "  # Convierte todo en minusculas\n",
        "  df_cleaning['text'] = df_cleaning['text'].apply(remove_lower)\n",
        "\n",
        "  # Elimina acentos\n",
        "  df_cleaning['text'] = df_cleaning['text'].apply(cambia_acentuadas)\n",
        "\n",
        "  # Elimina numeros\n",
        "  df_cleaning['text'] = df_cleaning['text'].apply(remove_numbers)\n",
        "\n",
        "  return df_cleaning"
      ],
      "metadata": {
        "id": "y3RLQDY5UvI0"
      },
      "id": "y3RLQDY5UvI0",
      "execution_count": null,
      "outputs": []
    }
  ],
  "metadata": {
    "kernelspec": {
      "display_name": "Python 3",
      "language": "python",
      "name": "python3"
    },
    "language_info": {
      "codemirror_mode": {
        "name": "ipython",
        "version": 3
      },
      "file_extension": ".py",
      "mimetype": "text/x-python",
      "name": "python",
      "nbconvert_exporter": "python",
      "pygments_lexer": "ipython3",
      "version": "3.8.6"
    },
    "colab": {
      "name": "search twitter.ipynb",
      "provenance": [],
      "toc_visible": true
    }
  },
  "nbformat": 4,
  "nbformat_minor": 5
}