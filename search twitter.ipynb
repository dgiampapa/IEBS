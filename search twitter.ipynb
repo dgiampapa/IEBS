{
  "cells": [
    {
      "cell_type": "markdown",
      "source": [
        "IEBS - Proyecto Final\n",
        "\n",
        "Este notebook se encarga a traves de las APi de twitter buscar los tweets de los diferentes bancos a ser evaluados. Con esto se genera un archivo csv de los tweets y de los usuarios. "
      ],
      "metadata": {
        "id": "58NKyYXscuKv"
      },
      "id": "58NKyYXscuKv"
    },
    {
      "cell_type": "code",
      "source": [
        "from google.colab import drive\n",
        "drive.mount('/content/drive')"
      ],
      "metadata": {
        "colab": {
          "base_uri": "https://localhost:8080/"
        },
        "id": "hNgG6lUHrcCg",
        "outputId": "a7cbb188-13b4-4370-d40c-fcf0add9dfca"
      },
      "id": "hNgG6lUHrcCg",
      "execution_count": 1,
      "outputs": [
        {
          "output_type": "stream",
          "name": "stdout",
          "text": [
            "Drive already mounted at /content/drive; to attempt to forcibly remount, call drive.mount(\"/content/drive\", force_remount=True).\n"
          ]
        }
      ]
    },
    {
      "cell_type": "code",
      "execution_count": 2,
      "id": "ce521069-6240-4bfa-ad84-7d49ea13374f",
      "metadata": {
        "id": "ce521069-6240-4bfa-ad84-7d49ea13374f"
      },
      "outputs": [],
      "source": [
        "%load_ext autoreload\n",
        "%autoreload 2"
      ]
    },
    {
      "cell_type": "code",
      "execution_count": 4,
      "id": "4b1d7fa8-f2fa-416b-b58d-47244192fd55",
      "metadata": {
        "id": "4b1d7fa8-f2fa-416b-b58d-47244192fd55"
      },
      "outputs": [],
      "source": [
        "import requests\n",
        "from requests_oauthlib import OAuth1\n",
        "import pandas as pd\n",
        "\n",
        "from tweepy import OAuthHandler, API, Cursor\n",
        "import json\n",
        "\n",
        "import warnings\n",
        "warnings.filterwarnings('ignore')"
      ]
    },
    {
      "cell_type": "code",
      "execution_count": 5,
      "id": "1ee5868b-73e7-4ad8-a37e-00f532602b70",
      "metadata": {
        "id": "1ee5868b-73e7-4ad8-a37e-00f532602b70"
      },
      "outputs": [],
      "source": [
        "ckey = 'dHJRdt64HiFuM9Pd9JjfRKmaO'\n",
        "csecret = 'ZeCqoUN9EntyQTWrQ1LjeuhRCcuPJsscQOhjtToR9o0WgolOPJ'\n",
        "\n",
        "atoken = '38060754-NJ7TvzMaZGTbPqxN47R7Lo7nqonm92UnQ00gRcFLd'\n",
        "asecret = 'Ce5lMmc97yKsloWxNT6MBCduFj8UcUQUXuWW39lz8Pezk'\n",
        "\n",
        "Bearer = 'AAAAAAAAAAAAAAAAAAAAAHbEOwEAAAAAmFuxYzwGEgoSPj9UXJID8tJA4A4%3DdHHFgBO1XnM4MWI9Z40Tim28zBieDeTwPhU3EGMvFo6F6tvRcO'"
      ]
    },
    {
      "cell_type": "code",
      "execution_count": 6,
      "id": "2642d8b3-083c-4408-9180-0b5f67478680",
      "metadata": {
        "id": "2642d8b3-083c-4408-9180-0b5f67478680"
      },
      "outputs": [],
      "source": [
        "auth = OAuthHandler(ckey, csecret)\n",
        "auth.set_access_token(atoken, asecret)"
      ]
    },
    {
      "cell_type": "code",
      "execution_count": 7,
      "id": "4b8ceb1c-99ad-408e-8157-f8ac0f8f4f37",
      "metadata": {
        "id": "4b8ceb1c-99ad-408e-8157-f8ac0f8f4f37"
      },
      "outputs": [],
      "source": [
        "api = API(auth,\n",
        "        wait_on_rate_limit=True,\n",
        "        wait_on_rate_limit_notify=True)"
      ]
    },
    {
      "cell_type": "markdown",
      "id": "9d5f482b-57ec-47dd-8e9d-a5b56ac9d53b",
      "metadata": {
        "id": "9d5f482b-57ec-47dd-8e9d-a5b56ac9d53b"
      },
      "source": [
        "# API con request\n",
        "\n",
        "Request de prueba:\n",
        "curl \"https://api.twitter.com/2/users/2244994945/mentions?expansions=author_id&tweet.fields=conversation_id,lang&user.fields=created_at,entities&max_results=5\" -H \"Authorization: Bearer $BEARER_TOKEN\"\n",
        "\n",
        "Página: \n",
        "https://developer.twitter.com/en/docs/twitter-api/tweets/timelines/api-reference/get-users-id-mentions#tab1\n"
      ]
    },
    {
      "cell_type": "code",
      "source": [
        "headers = {'Authorization': f'Bearer {Bearer}'} # Variable de autorizador\n",
        "url = f'https://api.twitter.com/2/users/by' # url de invocacion\n",
        "bancos = '' # variable que guarda toda la respuesta\n",
        "\n",
        "params = {'usernames': 'BBVA_espana,santander_es,caixabank,BancoSabadell,Bankinter',}\n",
        "\n",
        "auth = OAuth1(ckey, csecret,\n",
        "               atoken, asecret)\n",
        "\n",
        "bancos = requests.get(url, params=params, headers=headers).json()\n",
        "bancos"
      ],
      "metadata": {
        "colab": {
          "base_uri": "https://localhost:8080/"
        },
        "id": "Jbgzas90PFxC",
        "outputId": "f48e6191-ad26-4095-bc36-cecbf172ee9a"
      },
      "id": "Jbgzas90PFxC",
      "execution_count": 173,
      "outputs": [
        {
          "output_type": "execute_result",
          "data": {
            "text/plain": [
              "{'data': [{'id': '230123496',\n",
              "   'name': 'BBVA en España',\n",
              "   'username': 'BBVA_espana'},\n",
              "  {'id': '1372470686', 'name': 'Santander España', 'username': 'santander_es'},\n",
              "  {'id': '270429778', 'name': 'CaixaBank', 'username': 'caixabank'},\n",
              "  {'id': '9980072', 'name': 'Banco Sabadell', 'username': 'BancoSabadell'},\n",
              "  {'id': '86031609', 'name': 'Bankinter', 'username': 'Bankinter'}]}"
            ]
          },
          "metadata": {},
          "execution_count": 173
        }
      ]
    },
    {
      "cell_type": "code",
      "execution_count": 151,
      "id": "4bf6d466-543a-4556-b9f8-6c3b21182ff8",
      "metadata": {
        "id": "4bf6d466-543a-4556-b9f8-6c3b21182ff8"
      },
      "outputs": [],
      "source": [
        "#curl \"https://api.twitter.com/2/tweets/search/all?query=from%3Atwitterdev%20new%20-is%3Aretweet&max_results=10\" -H \"Authorization: Bearer $BEARER_TOKEN\"        \n",
        "\n",
        "def buscar_tweets_mentions(mentions_id, cantidad_tweet=800):\n",
        "\n",
        "    headers = {'Authorization': f'Bearer {Bearer}'} # Variable de autorizador\n",
        "    url = f'https://api.twitter.com/2/users/{mentions_id}/mentions' # url de invocacion\n",
        "    respuesta = '' # variable que guarda toda la respuesta\n",
        "    usuarios = '' # variable que guarda los usuarios\n",
        "    data = pd.DataFrame()\n",
        "    params = {\n",
        "        'expansions': 'author_id,geo.place_id',\n",
        "        'tweet.fields': 'conversation_id,created_at,lang,public_metrics,possibly_sensitive,source',\n",
        "        'max_results':100} \n",
        "\n",
        "    auth = OAuth1(ckey, csecret,\n",
        "               atoken, asecret)\n",
        "    \n",
        "    for cantidad in range(int(cantidad_tweet/100)):\n",
        "        respuesta = requests.get(url, params=params, headers=headers).json()\n",
        "        data = data.append(respuesta['data'])\n",
        "        usuarios = usuarios.append(respuesta['includes']['users'])\n",
        "        params = {\n",
        "            'expansions': 'author_id,geo.place_id',\n",
        "            'tweet.fields': 'conversation_id,created_at,lang,public_metrics,possibly_sensitive,source',\n",
        "            'pagination_token': respuesta['meta']['next_token'],\n",
        "            'max_results':100}\n",
        "    return data, usuarios"
      ]
    },
    {
      "cell_type": "code",
      "execution_count": 208,
      "id": "c8b1bd1f-8de2-4643-8c31-b62e04c8a3ab",
      "metadata": {
        "id": "c8b1bd1f-8de2-4643-8c31-b62e04c8a3ab"
      },
      "outputs": [],
      "source": [
        "#  ruta_tweets = f'/content/drive/MyDrive/IEBS/Global Proyect/datos/{id}.csv'\n",
        "#  ruta_users = f'/content/drive/MyDrive/IEBS/Global Proyect/datos/user-{id}.csv'\n",
        "\n",
        "valores = bancos['data']\n",
        "for i in valores:\n",
        "  id = i['id']\n",
        "\n",
        "  respuesta_funcion, usuarios_funcion = buscar_tweets_mentions(id)\n",
        "\n",
        "  respuesta_funcion['created_at'] = pd.to_datetime(respuesta_funcion['created_at'])\n",
        "\n",
        "  respuesta_funcion.to_csv(f'/content/drive/MyDrive/IEBS/Global Proyect/datos/{id}.csv')\n",
        "  usuarios_funcion.to_csv(f'/content/drive/MyDrive/IEBS/Global Proyect/datos/user-{id}.csv')"
      ]
    }
  ],
  "metadata": {
    "kernelspec": {
      "display_name": "Python 3",
      "language": "python",
      "name": "python3"
    },
    "language_info": {
      "codemirror_mode": {
        "name": "ipython",
        "version": 3
      },
      "file_extension": ".py",
      "mimetype": "text/x-python",
      "name": "python",
      "nbconvert_exporter": "python",
      "pygments_lexer": "ipython3",
      "version": "3.8.6"
    },
    "colab": {
      "name": "search twitter.ipynb",
      "provenance": []
    }
  },
  "nbformat": 4,
  "nbformat_minor": 5
}